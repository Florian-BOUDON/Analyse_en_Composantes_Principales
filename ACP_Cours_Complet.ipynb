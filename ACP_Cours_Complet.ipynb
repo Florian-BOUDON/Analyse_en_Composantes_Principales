{
 "cells": [
  {
   "cell_type": "markdown",
   "metadata": {},
   "source": [
    "#   <font color=\"#8333ff\"> Analyse en Composantes Principales"
   ]
  },
  {
   "cell_type": "markdown",
   "metadata": {},
   "source": [
    "### Tables des matières <a class=\"anchor\" id=\"retour\"></a> \n",
    "\n",
    "* [Présentation générale du projet](#Présentation)\n",
    "* [Partie 1 :  Préparation des données](#Partie1)\n",
    "    * [Section 1.1 Importation des données](#Section1.1)\n",
    "    * [Section 1.2 Préparation des données](#Section1.2)\n",
    "* [Partie 2 : Analyse en composantes principales (scikit-learn)](#Partie2)\n",
    "    * [Section 2.1 Instanciation et lancement des calculs](#section2.1)\n",
    "    * [Section 2.2 Valeurs propres et scree plot](#section2.2)\n",
    "    * [Section 2.3 Détermination du nombre de fateur à retenir](#Section2.3)\n",
    "    * [Section 2.4 Représentation des individus](#Section2.4)\n",
    "    * [Section 2.5 Détermination du nombre de fateur à retenir](#Section2.5)    \n",
    "* [Partie 3 : Traitement des individus et variables illustratifs](#Partie3)\n",
    "    * [Section 3.1 Individus supplémentaires](#Section3.1)\n",
    "    * [Section 3.2 Variables supplémentaires](#Section3.2)\n",
    "    * [Section 3.3 Variable illustrative qualitative](#Section3.3)\n",
    "    * [Section 3.4 Calcul des barycentres des modalitées de la variable qualitative](#Section3.4)"
   ]
  },
  {
   "cell_type": "markdown",
   "metadata": {},
   "source": [
    "## Présentation <a class=\"anchor\" id=\"Présentation\"></a>\n",
    "Ce notebook  est inspiré du cours:    \n",
    "http://eric.univ-lyon2.fr/~ricco/tanagra/fichiers/fr_Tanagra_ACP_Python.pdf  "
   ]
  },
  {
   "cell_type": "markdown",
   "metadata": {},
   "source": [
    ">Les deux premières parties peuvent être lancées comme ca, il faudra juste s'assurer qu'il n'y a aucune données manquante.    \n",
    "Pour la troisième partie il faudra adapter les données"
   ]
  },
  {
   "cell_type": "markdown",
   "metadata": {},
   "source": [
    "## Partie 1 :  Préparation des données <a class=\"anchor\" id=\"Partie1\"></a>"
   ]
  },
  {
   "cell_type": "markdown",
   "metadata": {},
   "source": [
    "### Section 1.1 Importation des données <a class=\"anchor\" id=\"Section1.1\"></a>"
   ]
  },
  {
   "cell_type": "code",
   "execution_count": 1,
   "metadata": {},
   "outputs": [],
   "source": [
    "# importation des librairies nécessaires à l'analyse des données\n",
    "\n",
    "import pandas as pd\n",
    "import numpy as np\n",
    "import matplotlib.pyplot as plt\n",
    "import sklearn\n",
    "\n",
    "from sklearn import decomposition\n",
    "from sklearn import preprocessing"
   ]
  },
  {
   "cell_type": "code",
   "execution_count": 2,
   "metadata": {},
   "outputs": [],
   "source": [
    "from sklearn.preprocessing import StandardScaler\n",
    "from sklearn.decomposition import PCA"
   ]
  },
  {
   "cell_type": "code",
   "execution_count": 3,
   "metadata": {},
   "outputs": [],
   "source": [
    "# Permet d'avoir des cellules de taille 80\n",
    "pd.set_option(\"max_colwidth\", 80)"
   ]
  },
  {
   "cell_type": "code",
   "execution_count": 4,
   "metadata": {},
   "outputs": [
    {
     "data": {
      "text/html": [
       "<div>\n",
       "<style scoped>\n",
       "    .dataframe tbody tr th:only-of-type {\n",
       "        vertical-align: middle;\n",
       "    }\n",
       "\n",
       "    .dataframe tbody tr th {\n",
       "        vertical-align: top;\n",
       "    }\n",
       "\n",
       "    .dataframe thead th {\n",
       "        text-align: right;\n",
       "    }\n",
       "</style>\n",
       "<table border=\"1\" class=\"dataframe\">\n",
       "  <thead>\n",
       "    <tr style=\"text-align: right;\">\n",
       "      <th></th>\n",
       "      <th>Commentaires</th>\n",
       "    </tr>\n",
       "  </thead>\n",
       "  <tbody>\n",
       "    <tr>\n",
       "      <th>coord</th>\n",
       "      <td>Coordonnées des individus sur les axes factorielles</td>\n",
       "    </tr>\n",
       "    <tr>\n",
       "      <th>eigval</th>\n",
       "      <td>Valeur propre = Variance composante principale</td>\n",
       "    </tr>\n",
       "    <tr>\n",
       "      <th>ratio_eigval</th>\n",
       "      <td>Somme des variances expliqués = Somme des valeurs propres</td>\n",
       "    </tr>\n",
       "    <tr>\n",
       "      <th>df_bs</th>\n",
       "      <td>Methode des batons</td>\n",
       "    </tr>\n",
       "    <tr>\n",
       "      <th>df_ctr</th>\n",
       "      <td>Contribution des individus aux axes factorielles</td>\n",
       "    </tr>\n",
       "    <tr>\n",
       "      <th>cos2</th>\n",
       "      <td>Qualité de la représentation des individus dans le plan factoriel</td>\n",
       "    </tr>\n",
       "    <tr>\n",
       "      <th>df_di</th>\n",
       "      <td>Contribution des individus dans l'inertie totale</td>\n",
       "    </tr>\n",
       "    <tr>\n",
       "      <th>df_corr</th>\n",
       "      <td>DF des corrélations entre les variables et les composantes</td>\n",
       "    </tr>\n",
       "    <tr>\n",
       "      <th>df_cos2var</th>\n",
       "      <td>Qualité de la représentation des variables</td>\n",
       "    </tr>\n",
       "    <tr>\n",
       "      <th>df_ctrvar</th>\n",
       "      <td>Contribution de la variable  à la composante</td>\n",
       "    </tr>\n",
       "    <tr>\n",
       "      <th>df_barycentre</th>\n",
       "      <td>Barycentre de chaque groupes</td>\n",
       "    </tr>\n",
       "  </tbody>\n",
       "</table>\n",
       "</div>"
      ],
      "text/plain": [
       "                                                                    Commentaires\n",
       "coord                        Coordonnées des individus sur les axes factorielles\n",
       "eigval                            Valeur propre = Variance composante principale\n",
       "ratio_eigval           Somme des variances expliqués = Somme des valeurs propres\n",
       "df_bs                                                         Methode des batons\n",
       "df_ctr                          Contribution des individus aux axes factorielles\n",
       "cos2           Qualité de la représentation des individus dans le plan factoriel\n",
       "df_di                           Contribution des individus dans l'inertie totale\n",
       "df_corr             DF des corrélations entre les variables et les composantes  \n",
       "df_cos2var                            Qualité de la représentation des variables\n",
       "df_ctrvar                           Contribution de la variable  à la composante\n",
       "df_barycentre                                       Barycentre de chaque groupes"
      ]
     },
     "execution_count": 4,
     "metadata": {},
     "output_type": "execute_result"
    }
   ],
   "source": [
    "# Création d'un DF qui donne tous les DF et leurs significations\n",
    "id =[\"coord\",\"eigval\",\"ratio_eigval\",\"df_bs\",\"df_ctr\",\"cos2 \", \"df_di\", \"df_corr\",\n",
    "     \"df_cos2var\", \"df_ctrvar\" ,\"df_barycentre\"]\n",
    "meta_df = pd.DataFrame({'Commentaires': \n",
    "                        ['Coordonnées des individus sur les axes factorielles',\n",
    "                         'Valeur propre = Variance composante principale',\n",
    "                         'Somme des variances expliqués = Somme des valeurs propres',\n",
    "                         \"Methode des batons\",\n",
    "                         \"Contribution des individus aux axes factorielles\",\n",
    "                         \"Qualité de la représentation des individus dans le plan factoriel\",\n",
    "                         \"Contribution des individus dans l'inertie totale\",\n",
    "                         \"DF des corrélations entre les variables et les composantes  \",\n",
    "                         \"Qualité de la représentation des variables\",\n",
    "                         \"Contribution de la variable  à la composante\",\n",
    "                         \"Barycentre de chaque groupes\"]}, index=id )\n",
    "meta_df"
   ]
  },
  {
   "cell_type": "code",
   "execution_count": 5,
   "metadata": {},
   "outputs": [],
   "source": [
    "# Remet les valeurs d'origine\n",
    "pd.reset_option(\"max_colwidth\")"
   ]
  },
  {
   "cell_type": "code",
   "execution_count": 6,
   "metadata": {
    "scrolled": false
   },
   "outputs": [],
   "source": [
    "data=pd.read_csv(\"data_acp_cours_complet.csv\",sep=\";\", index_col=0)"
   ]
  },
  {
   "cell_type": "code",
   "execution_count": 7,
   "metadata": {
    "scrolled": false
   },
   "outputs": [
    {
     "data": {
      "text/html": [
       "<div>\n",
       "<style scoped>\n",
       "    .dataframe tbody tr th:only-of-type {\n",
       "        vertical-align: middle;\n",
       "    }\n",
       "\n",
       "    .dataframe tbody tr th {\n",
       "        vertical-align: top;\n",
       "    }\n",
       "\n",
       "    .dataframe thead th {\n",
       "        text-align: right;\n",
       "    }\n",
       "</style>\n",
       "<table border=\"1\" class=\"dataframe\">\n",
       "  <thead>\n",
       "    <tr style=\"text-align: right;\">\n",
       "      <th></th>\n",
       "      <th>CYL</th>\n",
       "      <th>PUISS</th>\n",
       "      <th>LONG</th>\n",
       "      <th>LARG</th>\n",
       "      <th>POIDS</th>\n",
       "      <th>V_MAX</th>\n",
       "    </tr>\n",
       "    <tr>\n",
       "      <th>Modele</th>\n",
       "      <th></th>\n",
       "      <th></th>\n",
       "      <th></th>\n",
       "      <th></th>\n",
       "      <th></th>\n",
       "      <th></th>\n",
       "    </tr>\n",
       "  </thead>\n",
       "  <tbody>\n",
       "    <tr>\n",
       "      <th>Alfasud TI</th>\n",
       "      <td>1350</td>\n",
       "      <td>79</td>\n",
       "      <td>393</td>\n",
       "      <td>161</td>\n",
       "      <td>870</td>\n",
       "      <td>165</td>\n",
       "    </tr>\n",
       "    <tr>\n",
       "      <th>Audi 100</th>\n",
       "      <td>1588</td>\n",
       "      <td>85</td>\n",
       "      <td>468</td>\n",
       "      <td>177</td>\n",
       "      <td>1110</td>\n",
       "      <td>160</td>\n",
       "    </tr>\n",
       "    <tr>\n",
       "      <th>Simca 1300</th>\n",
       "      <td>1294</td>\n",
       "      <td>68</td>\n",
       "      <td>424</td>\n",
       "      <td>168</td>\n",
       "      <td>1050</td>\n",
       "      <td>152</td>\n",
       "    </tr>\n",
       "    <tr>\n",
       "      <th>Citroen GS Club</th>\n",
       "      <td>1222</td>\n",
       "      <td>59</td>\n",
       "      <td>412</td>\n",
       "      <td>161</td>\n",
       "      <td>930</td>\n",
       "      <td>151</td>\n",
       "    </tr>\n",
       "    <tr>\n",
       "      <th>Fiat 132</th>\n",
       "      <td>1585</td>\n",
       "      <td>98</td>\n",
       "      <td>439</td>\n",
       "      <td>164</td>\n",
       "      <td>1105</td>\n",
       "      <td>165</td>\n",
       "    </tr>\n",
       "    <tr>\n",
       "      <th>Lancia Beta</th>\n",
       "      <td>1297</td>\n",
       "      <td>82</td>\n",
       "      <td>429</td>\n",
       "      <td>169</td>\n",
       "      <td>1080</td>\n",
       "      <td>160</td>\n",
       "    </tr>\n",
       "    <tr>\n",
       "      <th>Peugeot 504</th>\n",
       "      <td>1796</td>\n",
       "      <td>79</td>\n",
       "      <td>449</td>\n",
       "      <td>169</td>\n",
       "      <td>1160</td>\n",
       "      <td>154</td>\n",
       "    </tr>\n",
       "    <tr>\n",
       "      <th>Renault 16 TL</th>\n",
       "      <td>1565</td>\n",
       "      <td>55</td>\n",
       "      <td>424</td>\n",
       "      <td>163</td>\n",
       "      <td>1010</td>\n",
       "      <td>140</td>\n",
       "    </tr>\n",
       "    <tr>\n",
       "      <th>Renault 30</th>\n",
       "      <td>2664</td>\n",
       "      <td>128</td>\n",
       "      <td>452</td>\n",
       "      <td>173</td>\n",
       "      <td>1320</td>\n",
       "      <td>180</td>\n",
       "    </tr>\n",
       "    <tr>\n",
       "      <th>Toyota Corolla</th>\n",
       "      <td>1166</td>\n",
       "      <td>55</td>\n",
       "      <td>399</td>\n",
       "      <td>157</td>\n",
       "      <td>815</td>\n",
       "      <td>140</td>\n",
       "    </tr>\n",
       "    <tr>\n",
       "      <th>Alfetta-1.66</th>\n",
       "      <td>1570</td>\n",
       "      <td>109</td>\n",
       "      <td>428</td>\n",
       "      <td>162</td>\n",
       "      <td>1060</td>\n",
       "      <td>175</td>\n",
       "    </tr>\n",
       "    <tr>\n",
       "      <th>Princess-1800</th>\n",
       "      <td>1798</td>\n",
       "      <td>82</td>\n",
       "      <td>445</td>\n",
       "      <td>172</td>\n",
       "      <td>1160</td>\n",
       "      <td>158</td>\n",
       "    </tr>\n",
       "    <tr>\n",
       "      <th>Datsun-200L</th>\n",
       "      <td>1998</td>\n",
       "      <td>115</td>\n",
       "      <td>469</td>\n",
       "      <td>169</td>\n",
       "      <td>1370</td>\n",
       "      <td>160</td>\n",
       "    </tr>\n",
       "    <tr>\n",
       "      <th>Taunus-2000</th>\n",
       "      <td>1993</td>\n",
       "      <td>98</td>\n",
       "      <td>438</td>\n",
       "      <td>170</td>\n",
       "      <td>1080</td>\n",
       "      <td>167</td>\n",
       "    </tr>\n",
       "    <tr>\n",
       "      <th>Rancho</th>\n",
       "      <td>1442</td>\n",
       "      <td>80</td>\n",
       "      <td>431</td>\n",
       "      <td>166</td>\n",
       "      <td>1129</td>\n",
       "      <td>144</td>\n",
       "    </tr>\n",
       "    <tr>\n",
       "      <th>Mazda-9295</th>\n",
       "      <td>1769</td>\n",
       "      <td>83</td>\n",
       "      <td>440</td>\n",
       "      <td>165</td>\n",
       "      <td>1095</td>\n",
       "      <td>165</td>\n",
       "    </tr>\n",
       "    <tr>\n",
       "      <th>Opel-Rekord</th>\n",
       "      <td>1979</td>\n",
       "      <td>100</td>\n",
       "      <td>459</td>\n",
       "      <td>173</td>\n",
       "      <td>1120</td>\n",
       "      <td>173</td>\n",
       "    </tr>\n",
       "    <tr>\n",
       "      <th>Lada-1300</th>\n",
       "      <td>1294</td>\n",
       "      <td>68</td>\n",
       "      <td>404</td>\n",
       "      <td>161</td>\n",
       "      <td>955</td>\n",
       "      <td>140</td>\n",
       "    </tr>\n",
       "  </tbody>\n",
       "</table>\n",
       "</div>"
      ],
      "text/plain": [
       "                  CYL  PUISS  LONG  LARG  POIDS  V_MAX\n",
       "Modele                                                \n",
       "Alfasud TI       1350     79   393   161    870    165\n",
       "Audi 100         1588     85   468   177   1110    160\n",
       "Simca 1300       1294     68   424   168   1050    152\n",
       "Citroen GS Club  1222     59   412   161    930    151\n",
       "Fiat 132         1585     98   439   164   1105    165\n",
       "Lancia Beta      1297     82   429   169   1080    160\n",
       "Peugeot 504      1796     79   449   169   1160    154\n",
       "Renault 16 TL    1565     55   424   163   1010    140\n",
       "Renault 30       2664    128   452   173   1320    180\n",
       "Toyota Corolla   1166     55   399   157    815    140\n",
       "Alfetta-1.66     1570    109   428   162   1060    175\n",
       "Princess-1800    1798     82   445   172   1160    158\n",
       "Datsun-200L      1998    115   469   169   1370    160\n",
       "Taunus-2000      1993     98   438   170   1080    167\n",
       "Rancho           1442     80   431   166   1129    144\n",
       "Mazda-9295       1769     83   440   165   1095    165\n",
       "Opel-Rekord      1979    100   459   173   1120    173\n",
       "Lada-1300        1294     68   404   161    955    140"
      ]
     },
     "execution_count": 7,
     "metadata": {},
     "output_type": "execute_result"
    }
   ],
   "source": [
    "data"
   ]
  },
  {
   "cell_type": "code",
   "execution_count": 8,
   "metadata": {},
   "outputs": [
    {
     "name": "stdout",
     "output_type": "stream",
     "text": [
      "1.1.3\n"
     ]
    }
   ],
   "source": [
    "print(pd.__version__)"
   ]
  },
  {
   "cell_type": "code",
   "execution_count": 9,
   "metadata": {},
   "outputs": [
    {
     "name": "stdout",
     "output_type": "stream",
     "text": [
      "(18, 6)\n"
     ]
    }
   ],
   "source": [
    "# On nomme le DF X\n",
    "X=data\n",
    "\n",
    "# dimension\n",
    "print(X.shape)\n",
    "\n",
    "# nombre d'observation\n",
    "n=X.shape[0]\n",
    "p=X.shape[1]"
   ]
  },
  {
   "cell_type": "markdown",
   "metadata": {},
   "source": [
    "### Section 1.1 Préparation des données <a class=\"anchor\" id=\"Section1.2\"></a>"
   ]
  },
  {
   "cell_type": "code",
   "execution_count": 10,
   "metadata": {},
   "outputs": [
    {
     "name": "stdout",
     "output_type": "stream",
     "text": [
      "0.23.2\n"
     ]
    }
   ],
   "source": [
    "print(sklearn.__version__)"
   ]
  },
  {
   "cell_type": "code",
   "execution_count": 11,
   "metadata": {},
   "outputs": [
    {
     "name": "stdout",
     "output_type": "stream",
     "text": [
      "[[-0.77509889 -0.28335818 -1.88508077 -1.09734528 -1.56900676  0.56976043]\n",
      " [-0.12016326  0.01963869  1.60580955  2.0010414   0.23416142  0.14597168]\n",
      " [-0.92920139 -0.83885242 -0.44217944  0.25819889 -0.21663062 -0.53209032]\n",
      " [-1.12733318 -1.29334771 -1.00072189 -1.09734528 -1.11821472 -0.61684807]\n",
      " [-0.12841875  0.67613189  0.25599862 -0.51639778  0.19659542  0.56976043]\n",
      " [-0.9209459  -0.13185975 -0.20945342  0.45184806  0.0087654   0.14597168]\n",
      " [ 0.45221746 -0.28335818  0.72145067  0.45184806  0.60982146 -0.36257482]\n",
      " [-0.18345536 -1.49534562 -0.44217944 -0.71004695 -0.51715865 -1.54918332]\n",
      " [ 2.84080623  2.19111619  0.86108628  1.22644473  1.81193359  1.84112668]\n",
      " [-1.28143568 -1.49534562 -1.60580955 -1.87194195 -1.98223281 -1.54918332]\n",
      " [-0.16969621  1.23162613 -0.25599862 -0.90369611 -0.14149861  1.41733793]\n",
      " [ 0.45772112 -0.13185975  0.53526985  1.03279556  0.60982146 -0.02354382]\n",
      " [ 1.0080872   1.53462299  1.65235475  0.45184806  2.18759363  0.14597168]\n",
      " [ 0.99432805  0.67613189  0.20945342  0.64549722  0.0087654   0.73927593]\n",
      " [-0.5219305  -0.2328587  -0.11636301 -0.12909944  0.37691224 -1.21015232]\n",
      " [ 0.37791804 -0.08136027  0.30254383 -0.32274861  0.12146341  0.56976043]\n",
      " [ 0.95580242  0.77713084  1.18690271  1.22644473  0.30929343  1.24782243]\n",
      " [-0.92920139 -0.83885242 -1.37308353 -1.09734528 -0.9303847  -1.54918332]]\n"
     ]
    }
   ],
   "source": [
    "# instanciation\n",
    "sc=StandardScaler()\n",
    "\n",
    "# on travaille avec des données centrées reduites\n",
    "Z=sc.fit_transform(X)\n",
    "print(Z)"
   ]
  },
  {
   "cell_type": "code",
   "execution_count": 12,
   "metadata": {},
   "outputs": [
    {
     "name": "stdout",
     "output_type": "stream",
     "text": [
      "[-2.22044605e-16 -1.41861831e-16  0.00000000e+00  1.86270752e-15\n",
      "  5.73615229e-16  5.55111512e-16]\n",
      "[1. 1. 1. 1. 1. 1.]\n"
     ]
    }
   ],
   "source": [
    "# on vérifie que les données soient centrées\n",
    "print(np.mean(Z,axis=0))\n",
    "\n",
    "# et réduite\n",
    "print(np.std(Z,axis=0,ddof=0))"
   ]
  },
  {
   "cell_type": "markdown",
   "metadata": {},
   "source": [
    "***\n",
    "[<font color=blue> Retour à la Table Des Matières](#retour)\n",
    "****"
   ]
  },
  {
   "cell_type": "markdown",
   "metadata": {},
   "source": [
    "## Partie 2 : Analyse en composantes principales (scikit-learn) <a class=\"anchor\" id=\"Partie2\"></a>"
   ]
  },
  {
   "cell_type": "markdown",
   "metadata": {},
   "source": [
    "### Section 2.1 Instanciation et lancement des calculs <a class=\"anchor\" id=\"Section2.1\"></a>"
   ]
  },
  {
   "cell_type": "code",
   "execution_count": 13,
   "metadata": {},
   "outputs": [],
   "source": [
    "acp=PCA(svd_solver='full')"
   ]
  },
  {
   "cell_type": "markdown",
   "metadata": {},
   "source": [
    "Le paramètre svd_solver='full' indique l'algorithme utilisé pour la décomposition en valeur singulière.    \n",
    "nous choisissons la méthode exacte"
   ]
  },
  {
   "cell_type": "code",
   "execution_count": 14,
   "metadata": {},
   "outputs": [
    {
     "data": {
      "text/plain": [
       "PCA(svd_solver='full')"
      ]
     },
     "execution_count": 14,
     "metadata": {},
     "output_type": "execute_result"
    }
   ],
   "source": [
    "acp"
   ]
  },
  {
   "cell_type": "code",
   "execution_count": 15,
   "metadata": {},
   "outputs": [
    {
     "name": "stdout",
     "output_type": "stream",
     "text": [
      "6\n"
     ]
    }
   ],
   "source": [
    "# calculs\n",
    "coord = acp.fit_transform(Z)\n",
    "\n",
    "# nombre de composantes calculées\n",
    "print(acp.n_components_)"
   ]
  },
  {
   "cell_type": "markdown",
   "metadata": {},
   "source": [
    "### Section 2.2 Valeurs propres et scree plot <a class=\"anchor\" id=\"Section2.2\"></a>"
   ]
  },
  {
   "cell_type": "markdown",
   "metadata": {},
   "source": [
    "La propriété .explained_variance_ semble bonne pour obtenir les variances(valeurs propres , λ) associées aux axes factoriels."
   ]
  },
  {
   "cell_type": "code",
   "execution_count": 16,
   "metadata": {},
   "outputs": [
    {
     "name": "stdout",
     "output_type": "stream",
     "text": [
      "[4.68090853 0.90641889 0.39501114 0.22650574 0.09826011 0.04583676]\n"
     ]
    }
   ],
   "source": [
    "# variances expliquée\n",
    "print(acp.explained_variance_)"
   ]
  },
  {
   "cell_type": "markdown",
   "metadata": {},
   "source": [
    "Nous n'avons pas les bonnes valeurs, il faut ajouter une correction"
   ]
  },
  {
   "cell_type": "code",
   "execution_count": 17,
   "metadata": {},
   "outputs": [
    {
     "name": "stdout",
     "output_type": "stream",
     "text": [
      "[4.42085806 0.85606229 0.37306608 0.21392209 0.09280121 0.04329027]\n"
     ]
    }
   ],
   "source": [
    "# valeur corrigée\n",
    "eigval = (n-1)/n*acp.explained_variance_\n",
    "print(eigval)"
   ]
  },
  {
   "cell_type": "markdown",
   "metadata": {},
   "source": [
    "Nous aurion pu obtenir les bonnes valeurs propre en passant par les valeurs singulières .singular_values_ issues    \n",
    "de la factorisation de la matrice des données centrées reduites"
   ]
  },
  {
   "cell_type": "code",
   "execution_count": 18,
   "metadata": {},
   "outputs": [
    {
     "name": "stdout",
     "output_type": "stream",
     "text": [
      "[4.42085806 0.85606229 0.37306608 0.21392209 0.09280121 0.04329027]\n"
     ]
    }
   ],
   "source": [
    "# ou bien en passant par les valeurs singulières\n",
    "print (acp.singular_values_**2/n)"
   ]
  },
  {
   "cell_type": "markdown",
   "metadata": {},
   "source": [
    "PCA fournit également les proportions de variances associées aux axes. il n'est pas nécessaire d'effectuer une correction dans ce cas"
   ]
  },
  {
   "cell_type": "code",
   "execution_count": 19,
   "metadata": {},
   "outputs": [
    {
     "name": "stdout",
     "output_type": "stream",
     "text": [
      "[0.73680968 0.14267705 0.06217768 0.03565368 0.01546687 0.00721505]\n"
     ]
    }
   ],
   "source": [
    "# proportion de variance expliquée\n",
    "print(acp.explained_variance_ratio_)"
   ]
  },
  {
   "cell_type": "markdown",
   "metadata": {},
   "source": [
    "La première composante accapare 73,68% de l'informationdisponible.      \n",
    "Il y a un effet de taille. Nous disposons de 87.94% ac les 2 premiers facteurs"
   ]
  },
  {
   "cell_type": "code",
   "execution_count": 20,
   "metadata": {},
   "outputs": [
    {
     "data": {
      "image/png": "[encoded data removed]",
      "text/plain": [
       "<Figure size 432x288 with 1 Axes>"
      ]
     },
     "metadata": {
      "needs_background": "light"
     },
     "output_type": "display_data"
    }
   ],
   "source": [
    "# screen plot\n",
    "plt.plot(np.arange(1,p+1),eigval)\n",
    "plt.title(\"Screen plot\")\n",
    "plt.ylabel(\"Eigen values\")\n",
    "plt.xlabel(\"Factor number\")\n",
    "plt.show()"
   ]
  },
  {
   "cell_type": "code",
   "execution_count": 21,
   "metadata": {
    "scrolled": false
   },
   "outputs": [
    {
     "data": {
      "image/png": "[encoded data removed]",
      "text/plain": [
       "<Figure size 432x288 with 1 Axes>"
      ]
     },
     "metadata": {
      "needs_background": "light"
     },
     "output_type": "display_data"
    }
   ],
   "source": [
    "# Cumul de variance expliquée\n",
    "plt.plot(np.arange(1,1+p), np.cumsum(acp.explained_variance_ratio_))\n",
    "plt.title(\"Explained variance vs. # of factors\")\n",
    "plt.ylabel(\"Cumsum explained variance ratio\")\n",
    "plt.xlabel('Factor number')\n",
    "plt.show()"
   ]
  },
  {
   "cell_type": "markdown",
   "metadata": {},
   "source": [
    "### Section 2.3 Détermination du nombre de fateur à retenir <a class=\"anchor\" id=\"Section2.3\"></a>"
   ]
  },
  {
   "cell_type": "code",
   "execution_count": 22,
   "metadata": {},
   "outputs": [],
   "source": [
    "# seuils pour test des bâtons brisés\n",
    "bs = 1/np.arange(p,0,-1)\n",
    "bs = np.cumsum(bs)\n",
    "bs = bs[::-1]"
   ]
  },
  {
   "cell_type": "code",
   "execution_count": 23,
   "metadata": {},
   "outputs": [
    {
     "data": {
      "text/html": [
       "<div>\n",
       "<style scoped>\n",
       "    .dataframe tbody tr th:only-of-type {\n",
       "        vertical-align: middle;\n",
       "    }\n",
       "\n",
       "    .dataframe tbody tr th {\n",
       "        vertical-align: top;\n",
       "    }\n",
       "\n",
       "    .dataframe thead th {\n",
       "        text-align: right;\n",
       "    }\n",
       "</style>\n",
       "<table border=\"1\" class=\"dataframe\">\n",
       "  <thead>\n",
       "    <tr style=\"text-align: right;\">\n",
       "      <th></th>\n",
       "      <th>Val.Propre</th>\n",
       "      <th>Seuils</th>\n",
       "    </tr>\n",
       "  </thead>\n",
       "  <tbody>\n",
       "    <tr>\n",
       "      <th>0</th>\n",
       "      <td>4.420858</td>\n",
       "      <td>2.450000</td>\n",
       "    </tr>\n",
       "    <tr>\n",
       "      <th>1</th>\n",
       "      <td>0.856062</td>\n",
       "      <td>1.450000</td>\n",
       "    </tr>\n",
       "    <tr>\n",
       "      <th>2</th>\n",
       "      <td>0.373066</td>\n",
       "      <td>0.950000</td>\n",
       "    </tr>\n",
       "    <tr>\n",
       "      <th>3</th>\n",
       "      <td>0.213922</td>\n",
       "      <td>0.616667</td>\n",
       "    </tr>\n",
       "    <tr>\n",
       "      <th>4</th>\n",
       "      <td>0.092801</td>\n",
       "      <td>0.366667</td>\n",
       "    </tr>\n",
       "    <tr>\n",
       "      <th>5</th>\n",
       "      <td>0.043290</td>\n",
       "      <td>0.166667</td>\n",
       "    </tr>\n",
       "  </tbody>\n",
       "</table>\n",
       "</div>"
      ],
      "text/plain": [
       "   Val.Propre    Seuils\n",
       "0    4.420858  2.450000\n",
       "1    0.856062  1.450000\n",
       "2    0.373066  0.950000\n",
       "3    0.213922  0.616667\n",
       "4    0.092801  0.366667\n",
       "5    0.043290  0.166667"
      ]
     },
     "execution_count": 23,
     "metadata": {},
     "output_type": "execute_result"
    }
   ],
   "source": [
    "# test des bâtons brisés\n",
    "df_bs= pd.DataFrame({'Val.Propre':eigval, 'Seuils':bs})\n",
    "df_bs"
   ]
  },
  {
   "cell_type": "markdown",
   "metadata": {},
   "source": [
    "### Section 2.4 Représentation des individus  <a class=\"anchor\" id=\"Section2.4\"></a>"
   ]
  },
  {
   "cell_type": "code",
   "execution_count": 24,
   "metadata": {},
   "outputs": [
    {
     "data": {
      "image/png": "[encoded data removed]",
      "text/plain": [
       "<Figure size 720x720 with 1 Axes>"
      ]
     },
     "metadata": {
      "needs_background": "light"
     },
     "output_type": "display_data"
    }
   ],
   "source": [
    "# Positionnement des individus dans le premier plan\n",
    "fig,axes = plt.subplots(figsize=(10,10))\n",
    "axes.set_xlim(-6,6)\n",
    "axes.set_ylim(-2,3)\n",
    "\n",
    "# Placement des étiquettes et des observations\n",
    "for i in range(n):\n",
    "    plt.annotate(X.index[i],(coord[i,0],coord[i,1]))\n",
    "    \n",
    "# ajouter des axes\n",
    "plt.plot([-6,6],[0,0],color='silver',linestyle='--',linewidth=1)\n",
    "plt.plot([0,0],[-6,6],color='silver', linestyle='--', linewidth=1)\n",
    "\n",
    "# affichage\n",
    "plt.show()"
   ]
  },
  {
   "cell_type": "code",
   "execution_count": 25,
   "metadata": {},
   "outputs": [
    {
     "data": {
      "text/html": [
       "<div>\n",
       "<style scoped>\n",
       "    .dataframe tbody tr th:only-of-type {\n",
       "        vertical-align: middle;\n",
       "    }\n",
       "\n",
       "    .dataframe tbody tr th {\n",
       "        vertical-align: top;\n",
       "    }\n",
       "\n",
       "    .dataframe thead th {\n",
       "        text-align: right;\n",
       "    }\n",
       "</style>\n",
       "<table border=\"1\" class=\"dataframe\">\n",
       "  <thead>\n",
       "    <tr style=\"text-align: right;\">\n",
       "      <th></th>\n",
       "      <th>d_i</th>\n",
       "    </tr>\n",
       "    <tr>\n",
       "      <th>Modele</th>\n",
       "      <th></th>\n",
       "    </tr>\n",
       "  </thead>\n",
       "  <tbody>\n",
       "    <tr>\n",
       "      <th>Alfasud TI</th>\n",
       "      <td>8.225176</td>\n",
       "    </tr>\n",
       "    <tr>\n",
       "      <th>Audi 100</th>\n",
       "      <td>6.673755</td>\n",
       "    </tr>\n",
       "    <tr>\n",
       "      <th>Simca 1300</th>\n",
       "      <td>2.159327</td>\n",
       "    </tr>\n",
       "    <tr>\n",
       "      <th>Citroen GS Club</th>\n",
       "      <td>6.780145</td>\n",
       "    </tr>\n",
       "    <tr>\n",
       "      <th>Fiat 132</th>\n",
       "      <td>1.169124</td>\n",
       "    </tr>\n",
       "    <tr>\n",
       "      <th>Lancia Beta</th>\n",
       "      <td>1.134950</td>\n",
       "    </tr>\n",
       "    <tr>\n",
       "      <th>Peugeot 504</th>\n",
       "      <td>1.512793</td>\n",
       "    </tr>\n",
       "    <tr>\n",
       "      <th>Renault 16 TL</th>\n",
       "      <td>5.636826</td>\n",
       "    </tr>\n",
       "    <tr>\n",
       "      <th>Renault 30</th>\n",
       "      <td>21.789657</td>\n",
       "    </tr>\n",
       "    <tr>\n",
       "      <th>Toyota Corolla</th>\n",
       "      <td>16.290143</td>\n",
       "    </tr>\n",
       "    <tr>\n",
       "      <th>Alfetta-1.66</th>\n",
       "      <td>4.456770</td>\n",
       "    </tr>\n",
       "    <tr>\n",
       "      <th>Princess-1800</th>\n",
       "      <td>1.952513</td>\n",
       "    </tr>\n",
       "    <tr>\n",
       "      <th>Datsun-200L</th>\n",
       "      <td>11.112624</td>\n",
       "    </tr>\n",
       "    <tr>\n",
       "      <th>Taunus-2000</th>\n",
       "      <td>2.452986</td>\n",
       "    </tr>\n",
       "    <tr>\n",
       "      <th>Rancho</th>\n",
       "      <td>1.963373</td>\n",
       "    </tr>\n",
       "    <tr>\n",
       "      <th>Mazda-9295</th>\n",
       "      <td>0.684521</td>\n",
       "    </tr>\n",
       "    <tr>\n",
       "      <th>Opel-Rekord</th>\n",
       "      <td>6.083119</td>\n",
       "    </tr>\n",
       "    <tr>\n",
       "      <th>Lada-1300</th>\n",
       "      <td>7.922198</td>\n",
       "    </tr>\n",
       "  </tbody>\n",
       "</table>\n",
       "</div>"
      ],
      "text/plain": [
       "                       d_i\n",
       "Modele                    \n",
       "Alfasud TI        8.225176\n",
       "Audi 100          6.673755\n",
       "Simca 1300        2.159327\n",
       "Citroen GS Club   6.780145\n",
       "Fiat 132          1.169124\n",
       "Lancia Beta       1.134950\n",
       "Peugeot 504       1.512793\n",
       "Renault 16 TL     5.636826\n",
       "Renault 30       21.789657\n",
       "Toyota Corolla   16.290143\n",
       "Alfetta-1.66      4.456770\n",
       "Princess-1800     1.952513\n",
       "Datsun-200L      11.112624\n",
       "Taunus-2000       2.452986\n",
       "Rancho            1.963373\n",
       "Mazda-9295        0.684521\n",
       "Opel-Rekord       6.083119\n",
       "Lada-1300         7.922198"
      ]
     },
     "execution_count": 25,
     "metadata": {},
     "output_type": "execute_result"
    }
   ],
   "source": [
    "# Contribution des individus dans l'inertie totale\n",
    "di=np.sum(Z**2,axis=1)\n",
    "df_di = (pd.DataFrame({'d_i':di},index=X.index))\n",
    "df_di"
   ]
  },
  {
   "cell_type": "code",
   "execution_count": 26,
   "metadata": {},
   "outputs": [
    {
     "data": {
      "text/html": [
       "<div>\n",
       "<style scoped>\n",
       "    .dataframe tbody tr th:only-of-type {\n",
       "        vertical-align: middle;\n",
       "    }\n",
       "\n",
       "    .dataframe tbody tr th {\n",
       "        vertical-align: top;\n",
       "    }\n",
       "\n",
       "    .dataframe thead th {\n",
       "        text-align: right;\n",
       "    }\n",
       "</style>\n",
       "<table border=\"1\" class=\"dataframe\">\n",
       "  <thead>\n",
       "    <tr style=\"text-align: right;\">\n",
       "      <th></th>\n",
       "      <th>cos2_1</th>\n",
       "      <th>cos2_2</th>\n",
       "    </tr>\n",
       "    <tr>\n",
       "      <th>Modele</th>\n",
       "      <th></th>\n",
       "      <th></th>\n",
       "    </tr>\n",
       "  </thead>\n",
       "  <tbody>\n",
       "    <tr>\n",
       "      <th>Alfasud TI</th>\n",
       "      <td>0.556218</td>\n",
       "      <td>0.387670</td>\n",
       "    </tr>\n",
       "    <tr>\n",
       "      <th>Audi 100</th>\n",
       "      <td>0.365334</td>\n",
       "      <td>0.349406</td>\n",
       "    </tr>\n",
       "    <tr>\n",
       "      <th>Simca 1300</th>\n",
       "      <td>0.580284</td>\n",
       "      <td>0.210694</td>\n",
       "    </tr>\n",
       "    <tr>\n",
       "      <th>Citroen GS Club</th>\n",
       "      <td>0.976992</td>\n",
       "      <td>0.001879</td>\n",
       "    </tr>\n",
       "    <tr>\n",
       "      <th>Fiat 132</th>\n",
       "      <td>0.156579</td>\n",
       "      <td>0.413826</td>\n",
       "    </tr>\n",
       "    <tr>\n",
       "      <th>Lancia Beta</th>\n",
       "      <td>0.081555</td>\n",
       "      <td>0.033900</td>\n",
       "    </tr>\n",
       "    <tr>\n",
       "      <th>Peugeot 504</th>\n",
       "      <td>0.309202</td>\n",
       "      <td>0.575488</td>\n",
       "    </tr>\n",
       "    <tr>\n",
       "      <th>Renault 16 TL</th>\n",
       "      <td>0.673539</td>\n",
       "      <td>0.170535</td>\n",
       "    </tr>\n",
       "    <tr>\n",
       "      <th>Renault 30</th>\n",
       "      <td>0.892431</td>\n",
       "      <td>0.051920</td>\n",
       "    </tr>\n",
       "    <tr>\n",
       "      <th>Toyota Corolla</th>\n",
       "      <td>0.975219</td>\n",
       "      <td>0.003426</td>\n",
       "    </tr>\n",
       "    <tr>\n",
       "      <th>Alfetta-1.66</th>\n",
       "      <td>0.042978</td>\n",
       "      <td>0.820652</td>\n",
       "    </tr>\n",
       "    <tr>\n",
       "      <th>Princess-1800</th>\n",
       "      <td>0.530947</td>\n",
       "      <td>0.362855</td>\n",
       "    </tr>\n",
       "    <tr>\n",
       "      <th>Datsun-200L</th>\n",
       "      <td>0.778390</td>\n",
       "      <td>0.028137</td>\n",
       "    </tr>\n",
       "    <tr>\n",
       "      <th>Taunus-2000</th>\n",
       "      <td>0.704819</td>\n",
       "      <td>0.096496</td>\n",
       "    </tr>\n",
       "    <tr>\n",
       "      <th>Rancho</th>\n",
       "      <td>0.243273</td>\n",
       "      <td>0.410469</td>\n",
       "    </tr>\n",
       "    <tr>\n",
       "      <th>Mazda-9295</th>\n",
       "      <td>0.217336</td>\n",
       "      <td>0.185337</td>\n",
       "    </tr>\n",
       "    <tr>\n",
       "      <th>Opel-Rekord</th>\n",
       "      <td>0.861900</td>\n",
       "      <td>0.001790</td>\n",
       "    </tr>\n",
       "    <tr>\n",
       "      <th>Lada-1300</th>\n",
       "      <td>0.926052</td>\n",
       "      <td>0.002607</td>\n",
       "    </tr>\n",
       "  </tbody>\n",
       "</table>\n",
       "</div>"
      ],
      "text/plain": [
       "                   cos2_1    cos2_2\n",
       "Modele                             \n",
       "Alfasud TI       0.556218  0.387670\n",
       "Audi 100         0.365334  0.349406\n",
       "Simca 1300       0.580284  0.210694\n",
       "Citroen GS Club  0.976992  0.001879\n",
       "Fiat 132         0.156579  0.413826\n",
       "Lancia Beta      0.081555  0.033900\n",
       "Peugeot 504      0.309202  0.575488\n",
       "Renault 16 TL    0.673539  0.170535\n",
       "Renault 30       0.892431  0.051920\n",
       "Toyota Corolla   0.975219  0.003426\n",
       "Alfetta-1.66     0.042978  0.820652\n",
       "Princess-1800    0.530947  0.362855\n",
       "Datsun-200L      0.778390  0.028137\n",
       "Taunus-2000      0.704819  0.096496\n",
       "Rancho           0.243273  0.410469\n",
       "Mazda-9295       0.217336  0.185337\n",
       "Opel-Rekord      0.861900  0.001790\n",
       "Lada-1300        0.926052  0.002607"
      ]
     },
     "execution_count": 26,
     "metadata": {},
     "output_type": "execute_result"
    }
   ],
   "source": [
    "# qualité de la représentation des individus  COS2\n",
    "cos2=coord**2\n",
    "for j in range(p):\n",
    "    cos2[:,j]=cos2[:,j]/di\n",
    "    \n",
    "df_cos2=pd.DataFrame({'cos2_1':cos2[:,0],'cos2_2':cos2[:,1]},index = X.index)\n",
    "df_cos2"
   ]
  },
  {
   "cell_type": "code",
   "execution_count": 27,
   "metadata": {},
   "outputs": [
    {
     "name": "stdout",
     "output_type": "stream",
     "text": [
      "[1. 1. 1. 1. 1. 1. 1. 1. 1. 1. 1. 1. 1. 1. 1. 1. 1. 1.]\n"
     ]
    }
   ],
   "source": [
    "# Vérifie la théorie - somme des lignes des cos2=1\n",
    "print(np.sum(cos2,axis=1))"
   ]
  },
  {
   "cell_type": "markdown",
   "metadata": {},
   "source": [
    "#### Contribution des iindividus aux axes (CTR)"
   ]
  },
  {
   "cell_type": "code",
   "execution_count": 28,
   "metadata": {},
   "outputs": [
    {
     "data": {
      "text/html": [
       "<div>\n",
       "<style scoped>\n",
       "    .dataframe tbody tr th:only-of-type {\n",
       "        vertical-align: middle;\n",
       "    }\n",
       "\n",
       "    .dataframe tbody tr th {\n",
       "        vertical-align: top;\n",
       "    }\n",
       "\n",
       "    .dataframe thead th {\n",
       "        text-align: right;\n",
       "    }\n",
       "</style>\n",
       "<table border=\"1\" class=\"dataframe\">\n",
       "  <thead>\n",
       "    <tr style=\"text-align: right;\">\n",
       "      <th></th>\n",
       "      <th>CTR_1</th>\n",
       "      <th>CTR_2</th>\n",
       "    </tr>\n",
       "    <tr>\n",
       "      <th>Modele</th>\n",
       "      <th></th>\n",
       "      <th></th>\n",
       "    </tr>\n",
       "  </thead>\n",
       "  <tbody>\n",
       "    <tr>\n",
       "      <th>Alfasud TI</th>\n",
       "      <td>0.057493</td>\n",
       "      <td>0.206933</td>\n",
       "    </tr>\n",
       "    <tr>\n",
       "      <th>Audi 100</th>\n",
       "      <td>0.030640</td>\n",
       "      <td>0.151329</td>\n",
       "    </tr>\n",
       "    <tr>\n",
       "      <th>Simca 1300</th>\n",
       "      <td>0.015746</td>\n",
       "      <td>0.029525</td>\n",
       "    </tr>\n",
       "    <tr>\n",
       "      <th>Citroen GS Club</th>\n",
       "      <td>0.083244</td>\n",
       "      <td>0.000827</td>\n",
       "    </tr>\n",
       "    <tr>\n",
       "      <th>Fiat 132</th>\n",
       "      <td>0.002300</td>\n",
       "      <td>0.031398</td>\n",
       "    </tr>\n",
       "    <tr>\n",
       "      <th>Lancia Beta</th>\n",
       "      <td>0.001163</td>\n",
       "      <td>0.002497</td>\n",
       "    </tr>\n",
       "    <tr>\n",
       "      <th>Peugeot 504</th>\n",
       "      <td>0.005878</td>\n",
       "      <td>0.056499</td>\n",
       "    </tr>\n",
       "    <tr>\n",
       "      <th>Renault 16 TL</th>\n",
       "      <td>0.047711</td>\n",
       "      <td>0.062384</td>\n",
       "    </tr>\n",
       "    <tr>\n",
       "      <th>Renault 30</th>\n",
       "      <td>0.244369</td>\n",
       "      <td>0.073419</td>\n",
       "    </tr>\n",
       "    <tr>\n",
       "      <th>Toyota Corolla</th>\n",
       "      <td>0.199640</td>\n",
       "      <td>0.003622</td>\n",
       "    </tr>\n",
       "    <tr>\n",
       "      <th>Alfetta-1.66</th>\n",
       "      <td>0.002407</td>\n",
       "      <td>0.237357</td>\n",
       "    </tr>\n",
       "    <tr>\n",
       "      <th>Princess-1800</th>\n",
       "      <td>0.013028</td>\n",
       "      <td>0.045978</td>\n",
       "    </tr>\n",
       "    <tr>\n",
       "      <th>Datsun-200L</th>\n",
       "      <td>0.108701</td>\n",
       "      <td>0.020292</td>\n",
       "    </tr>\n",
       "    <tr>\n",
       "      <th>Taunus-2000</th>\n",
       "      <td>0.021727</td>\n",
       "      <td>0.015361</td>\n",
       "    </tr>\n",
       "    <tr>\n",
       "      <th>Rancho</th>\n",
       "      <td>0.006002</td>\n",
       "      <td>0.052300</td>\n",
       "    </tr>\n",
       "    <tr>\n",
       "      <th>Mazda-9295</th>\n",
       "      <td>0.001870</td>\n",
       "      <td>0.008233</td>\n",
       "    </tr>\n",
       "    <tr>\n",
       "      <th>Opel-Rekord</th>\n",
       "      <td>0.065888</td>\n",
       "      <td>0.000707</td>\n",
       "    </tr>\n",
       "    <tr>\n",
       "      <th>Lada-1300</th>\n",
       "      <td>0.092194</td>\n",
       "      <td>0.001340</td>\n",
       "    </tr>\n",
       "  </tbody>\n",
       "</table>\n",
       "</div>"
      ],
      "text/plain": [
       "                    CTR_1     CTR_2\n",
       "Modele                             \n",
       "Alfasud TI       0.057493  0.206933\n",
       "Audi 100         0.030640  0.151329\n",
       "Simca 1300       0.015746  0.029525\n",
       "Citroen GS Club  0.083244  0.000827\n",
       "Fiat 132         0.002300  0.031398\n",
       "Lancia Beta      0.001163  0.002497\n",
       "Peugeot 504      0.005878  0.056499\n",
       "Renault 16 TL    0.047711  0.062384\n",
       "Renault 30       0.244369  0.073419\n",
       "Toyota Corolla   0.199640  0.003622\n",
       "Alfetta-1.66     0.002407  0.237357\n",
       "Princess-1800    0.013028  0.045978\n",
       "Datsun-200L      0.108701  0.020292\n",
       "Taunus-2000      0.021727  0.015361\n",
       "Rancho           0.006002  0.052300\n",
       "Mazda-9295       0.001870  0.008233\n",
       "Opel-Rekord      0.065888  0.000707\n",
       "Lada-1300        0.092194  0.001340"
      ]
     },
     "execution_count": 28,
     "metadata": {},
     "output_type": "execute_result"
    }
   ],
   "source": [
    "# Contribution aux axes\n",
    "ctr=coord**2\n",
    "for j in range(p):\n",
    "    ctr[:,j]=ctr[:,j]/(n*eigval[j])\n",
    "\n",
    "df_ctr = pd.DataFrame({'CTR_1':ctr[:,0],'CTR_2':ctr[:,1]},index=X.index)\n",
    "df_ctr"
   ]
  },
  {
   "cell_type": "code",
   "execution_count": 29,
   "metadata": {},
   "outputs": [
    {
     "name": "stdout",
     "output_type": "stream",
     "text": [
      "[1. 1. 1. 1. 1. 1.]\n"
     ]
    }
   ],
   "source": [
    "# On vérifie la théorie : ΣCTRik=1\n",
    "print(np.sum(ctr,axis=0))"
   ]
  },
  {
   "cell_type": "markdown",
   "metadata": {},
   "source": [
    "### Section 2.5 Représentation des variables  <a class=\"anchor\" id=\"Section2.5\"></a>"
   ]
  },
  {
   "cell_type": "markdown",
   "metadata": {},
   "source": [
    "Nous avons besoin des vecteurs propres pour l'analyse des variables. ils sont fournis par le champ .components_"
   ]
  },
  {
   "cell_type": "code",
   "execution_count": 30,
   "metadata": {},
   "outputs": [
    {
     "name": "stdout",
     "output_type": "stream",
     "text": [
      "[[ 0.42493602  0.42179441  0.42145993  0.38692224  0.43051198  0.35894427]\n",
      " [ 0.12419108  0.41577389 -0.41181773 -0.446087   -0.24267581  0.6198626 ]\n",
      " [-0.35361252 -0.18492049  0.06763394  0.60486812 -0.48439601  0.48547226]\n",
      " [ 0.80778648 -0.35779199 -0.27975231  0.21156941 -0.30171136 -0.0735743 ]\n",
      " [ 0.15158003 -0.29373465  0.73056903 -0.47819008 -0.30455842  0.18865511]\n",
      " [-0.05889517 -0.63303302 -0.19029153 -0.10956624  0.5808122   0.45852167]]\n"
     ]
    }
   ],
   "source": [
    "# le champ components_ de l'objet ACP\n",
    "print(acp.components_)"
   ]
  },
  {
   "cell_type": "markdown",
   "metadata": {},
   "source": [
    "Point important:   \n",
    "les facteurs sont en ligne, les variables en colonne.    \n",
    "Nous devons en tenir compte pour obtenir les corrélations en les multipliants par la racine carrée des valeurs propres"
   ]
  },
  {
   "cell_type": "code",
   "execution_count": 31,
   "metadata": {},
   "outputs": [
    {
     "name": "stdout",
     "output_type": "stream",
     "text": [
      "[[ 0.89346354  0.1149061  -0.21598347  0.37361508  0.04617627 -0.01225391]\n",
      " [ 0.88685803  0.38468911 -0.11294784 -0.16548492 -0.08948124 -0.13171084]\n",
      " [ 0.88615477 -0.38102873  0.04131023 -0.12939024  0.22255537 -0.03959265]\n",
      " [ 0.81353638 -0.4127359   0.36944822  0.09785447 -0.14567244 -0.0227967 ]\n",
      " [ 0.90518746 -0.22453248 -0.29586489 -0.13954667 -0.09277852  0.12084561]\n",
      " [ 0.75471037  0.57351941  0.29652226 -0.03402937  0.05747056  0.09540146]]\n"
     ]
    }
   ],
   "source": [
    "# racine carré des valeurs propres\n",
    "sqrt_eigval = np.sqrt(eigval)\n",
    "\n",
    "# corrélation des variables avec les axes\n",
    "corvar = np.zeros((p,p ))\n",
    "\n",
    "for k in range(p):\n",
    "    corvar[: , k] = acp.components_[k, :]*sqrt_eigval[k]\n",
    "\n",
    "# afficher la matrice des corrélations variables x facteurs\n",
    "print(corvar)"
   ]
  },
  {
   "cell_type": "code",
   "execution_count": 32,
   "metadata": {},
   "outputs": [
    {
     "data": {
      "text/html": [
       "<div>\n",
       "<style scoped>\n",
       "    .dataframe tbody tr th:only-of-type {\n",
       "        vertical-align: middle;\n",
       "    }\n",
       "\n",
       "    .dataframe tbody tr th {\n",
       "        vertical-align: top;\n",
       "    }\n",
       "\n",
       "    .dataframe thead th {\n",
       "        text-align: right;\n",
       "    }\n",
       "</style>\n",
       "<table border=\"1\" class=\"dataframe\">\n",
       "  <thead>\n",
       "    <tr style=\"text-align: right;\">\n",
       "      <th></th>\n",
       "      <th>COR_1</th>\n",
       "      <th>COR_2</th>\n",
       "    </tr>\n",
       "  </thead>\n",
       "  <tbody>\n",
       "    <tr>\n",
       "      <th>CYL</th>\n",
       "      <td>0.893464</td>\n",
       "      <td>0.114906</td>\n",
       "    </tr>\n",
       "    <tr>\n",
       "      <th>PUISS</th>\n",
       "      <td>0.886858</td>\n",
       "      <td>0.384689</td>\n",
       "    </tr>\n",
       "    <tr>\n",
       "      <th>LONG</th>\n",
       "      <td>0.886155</td>\n",
       "      <td>-0.381029</td>\n",
       "    </tr>\n",
       "    <tr>\n",
       "      <th>LARG</th>\n",
       "      <td>0.813536</td>\n",
       "      <td>-0.412736</td>\n",
       "    </tr>\n",
       "    <tr>\n",
       "      <th>POIDS</th>\n",
       "      <td>0.905187</td>\n",
       "      <td>-0.224532</td>\n",
       "    </tr>\n",
       "    <tr>\n",
       "      <th>V_MAX</th>\n",
       "      <td>0.754710</td>\n",
       "      <td>0.573519</td>\n",
       "    </tr>\n",
       "  </tbody>\n",
       "</table>\n",
       "</div>"
      ],
      "text/plain": [
       "          COR_1     COR_2\n",
       "CYL    0.893464  0.114906\n",
       "PUISS  0.886858  0.384689\n",
       "LONG   0.886155 -0.381029\n",
       "LARG   0.813536 -0.412736\n",
       "POIDS  0.905187 -0.224532\n",
       "V_MAX  0.754710  0.573519"
      ]
     },
     "execution_count": 32,
     "metadata": {},
     "output_type": "execute_result"
    }
   ],
   "source": [
    "# On affiche pour les 2 premiers axes\n",
    "df_id = pd.DataFrame({'COR_1':corvar[:,0],'COR_2':corvar[:,1]},index = X.columns)\n",
    "df_id"
   ]
  },
  {
   "cell_type": "markdown",
   "metadata": {},
   "source": [
    "### Le cercle des corrélations"
   ]
  },
  {
   "cell_type": "code",
   "execution_count": 33,
   "metadata": {},
   "outputs": [
    {
     "data": {
      "image/png": "[encoded data removed]",
      "text/plain": [
       "<Figure size 576x576 with 1 Axes>"
      ]
     },
     "metadata": {
      "needs_background": "light"
     },
     "output_type": "display_data"
    }
   ],
   "source": [
    "# cercle des correlations\n",
    "fig,axes=plt.subplots(figsize=(8,8))\n",
    "axes.set_xlim(-1,1)\n",
    "axes.set_ylim(-1,1)\n",
    "\n",
    "# Affichage des étiquettes (noms des variables)\n",
    "for j in range(p):\n",
    "    plt.annotate(X.columns[j],(corvar[j,0],corvar[j,1]))\n",
    "    plt.plot([0,corvar[j,0]],[0,corvar[j,1]],color='blue',alpha=0.2)\n",
    "    \n",
    "# ajouter les axes\n",
    "plt.plot([-1,1],[0,0],color='silver',linestyle='--',linewidth=1)\n",
    "plt.plot([0,0],[-1,1],color='silver',linestyle='--',linewidth=1)\n",
    "\n",
    "# Ajouter un cercle\n",
    "cercle = plt.Circle((0,0),1,color='blue',fill=False)\n",
    "axes.add_artist(cercle)\n",
    "\n",
    "# affichage\n",
    "plt.show()"
   ]
  },
  {
   "cell_type": "markdown",
   "metadata": {},
   "source": [
    "On perçoit clairement l'effet de taille sur le premier axe: les voitures puissantes et rapides sont aussi les plus lourdes et imposante, la relation globale entre les variables est en réalité determinée par la cylinfrée (CYL)."
   ]
  },
  {
   "cell_type": "markdown",
   "metadata": {},
   "source": [
    "#### Qualité de représentation des variables (COS2)"
   ]
  },
  {
   "cell_type": "code",
   "execution_count": 34,
   "metadata": {
    "scrolled": true
   },
   "outputs": [
    {
     "data": {
      "text/html": [
       "<div>\n",
       "<style scoped>\n",
       "    .dataframe tbody tr th:only-of-type {\n",
       "        vertical-align: middle;\n",
       "    }\n",
       "\n",
       "    .dataframe tbody tr th {\n",
       "        vertical-align: top;\n",
       "    }\n",
       "\n",
       "    .dataframe thead th {\n",
       "        text-align: right;\n",
       "    }\n",
       "</style>\n",
       "<table border=\"1\" class=\"dataframe\">\n",
       "  <thead>\n",
       "    <tr style=\"text-align: right;\">\n",
       "      <th></th>\n",
       "      <th>COS2_1</th>\n",
       "      <th>COS2_2</th>\n",
       "    </tr>\n",
       "  </thead>\n",
       "  <tbody>\n",
       "    <tr>\n",
       "      <th>CYL</th>\n",
       "      <td>0.798277</td>\n",
       "      <td>0.013203</td>\n",
       "    </tr>\n",
       "    <tr>\n",
       "      <th>PUISS</th>\n",
       "      <td>0.786517</td>\n",
       "      <td>0.147986</td>\n",
       "    </tr>\n",
       "    <tr>\n",
       "      <th>LONG</th>\n",
       "      <td>0.785270</td>\n",
       "      <td>0.145183</td>\n",
       "    </tr>\n",
       "    <tr>\n",
       "      <th>LARG</th>\n",
       "      <td>0.661841</td>\n",
       "      <td>0.170351</td>\n",
       "    </tr>\n",
       "    <tr>\n",
       "      <th>POIDS</th>\n",
       "      <td>0.819364</td>\n",
       "      <td>0.050415</td>\n",
       "    </tr>\n",
       "    <tr>\n",
       "      <th>V_MAX</th>\n",
       "      <td>0.569588</td>\n",
       "      <td>0.328925</td>\n",
       "    </tr>\n",
       "  </tbody>\n",
       "</table>\n",
       "</div>"
      ],
      "text/plain": [
       "         COS2_1    COS2_2\n",
       "CYL    0.798277  0.013203\n",
       "PUISS  0.786517  0.147986\n",
       "LONG   0.785270  0.145183\n",
       "LARG   0.661841  0.170351\n",
       "POIDS  0.819364  0.050415\n",
       "V_MAX  0.569588  0.328925"
      ]
     },
     "execution_count": 34,
     "metadata": {},
     "output_type": "execute_result"
    }
   ],
   "source": [
    "# cosinus carré des variables\n",
    "cos2var=corvar**2\n",
    "df_cos2var = pd.DataFrame({'COS2_1':cos2var[:,0],'COS2_2':cos2var[:,1]},index=X.columns)\n",
    "df_cos2var"
   ]
  },
  {
   "cell_type": "markdown",
   "metadata": {},
   "source": [
    "#### Contribution des variables aux axes (CTR)       \n",
    "#### CTRij = sqrt (r) jk / (λ)k"
   ]
  },
  {
   "cell_type": "code",
   "execution_count": 35,
   "metadata": {},
   "outputs": [
    {
     "data": {
      "text/html": [
       "<div>\n",
       "<style scoped>\n",
       "    .dataframe tbody tr th:only-of-type {\n",
       "        vertical-align: middle;\n",
       "    }\n",
       "\n",
       "    .dataframe tbody tr th {\n",
       "        vertical-align: top;\n",
       "    }\n",
       "\n",
       "    .dataframe thead th {\n",
       "        text-align: right;\n",
       "    }\n",
       "</style>\n",
       "<table border=\"1\" class=\"dataframe\">\n",
       "  <thead>\n",
       "    <tr style=\"text-align: right;\">\n",
       "      <th></th>\n",
       "      <th>CTR_1</th>\n",
       "      <th>CTR_2</th>\n",
       "    </tr>\n",
       "  </thead>\n",
       "  <tbody>\n",
       "    <tr>\n",
       "      <th>CYL</th>\n",
       "      <td>0.180571</td>\n",
       "      <td>0.015423</td>\n",
       "    </tr>\n",
       "    <tr>\n",
       "      <th>PUISS</th>\n",
       "      <td>0.177911</td>\n",
       "      <td>0.172868</td>\n",
       "    </tr>\n",
       "    <tr>\n",
       "      <th>LONG</th>\n",
       "      <td>0.177628</td>\n",
       "      <td>0.169594</td>\n",
       "    </tr>\n",
       "    <tr>\n",
       "      <th>LARG</th>\n",
       "      <td>0.149709</td>\n",
       "      <td>0.198994</td>\n",
       "    </tr>\n",
       "    <tr>\n",
       "      <th>POIDS</th>\n",
       "      <td>0.185341</td>\n",
       "      <td>0.058892</td>\n",
       "    </tr>\n",
       "    <tr>\n",
       "      <th>V_MAX</th>\n",
       "      <td>0.128841</td>\n",
       "      <td>0.384230</td>\n",
       "    </tr>\n",
       "  </tbody>\n",
       "</table>\n",
       "</div>"
      ],
      "text/plain": [
       "          CTR_1     CTR_2\n",
       "CYL    0.180571  0.015423\n",
       "PUISS  0.177911  0.172868\n",
       "LONG   0.177628  0.169594\n",
       "LARG   0.149709  0.198994\n",
       "POIDS  0.185341  0.058892\n",
       "V_MAX  0.128841  0.384230"
      ]
     },
     "execution_count": 35,
     "metadata": {},
     "output_type": "execute_result"
    }
   ],
   "source": [
    "# contributions\n",
    "ctrvar = cos2var\n",
    "\n",
    "for k in range(p):\n",
    "    ctrvar[:,k] = ctrvar[:,k]/eigval[k]\n",
    "    \n",
    "# on n'affiche que les 2 premiers axes\n",
    "df_cos2var = pd.DataFrame({'CTR_1':ctrvar[:,0],'CTR_2':ctrvar[:,1]},index=X.columns)\n",
    "df_cos2var"
   ]
  },
  {
   "cell_type": "markdown",
   "metadata": {},
   "source": [
    " ## Partie 3 :  Traitement des individus et variables illustratifs <a class=\"anchor\" id=\"Partie3\"></a>"
   ]
  },
  {
   "cell_type": "markdown",
   "metadata": {},
   "source": [
    "### Section 3.1 Individus supplémentaires <a class=\"anchor\" id=\"Section3.1\"></a>"
   ]
  },
  {
   "cell_type": "code",
   "execution_count": 36,
   "metadata": {},
   "outputs": [],
   "source": [
    "ind_Sup=pd.read_csv(\"ACP_ind_sup_voiture.csv\",sep=\";\",index_col=0)"
   ]
  },
  {
   "cell_type": "code",
   "execution_count": 37,
   "metadata": {},
   "outputs": [
    {
     "data": {
      "text/html": [
       "<div>\n",
       "<style scoped>\n",
       "    .dataframe tbody tr th:only-of-type {\n",
       "        vertical-align: middle;\n",
       "    }\n",
       "\n",
       "    .dataframe tbody tr th {\n",
       "        vertical-align: top;\n",
       "    }\n",
       "\n",
       "    .dataframe thead th {\n",
       "        text-align: right;\n",
       "    }\n",
       "</style>\n",
       "<table border=\"1\" class=\"dataframe\">\n",
       "  <thead>\n",
       "    <tr style=\"text-align: right;\">\n",
       "      <th></th>\n",
       "      <th>CYL</th>\n",
       "      <th>PUISS</th>\n",
       "      <th>LONG</th>\n",
       "      <th>LARG</th>\n",
       "      <th>POIDS</th>\n",
       "      <th>V_MAX</th>\n",
       "    </tr>\n",
       "    <tr>\n",
       "      <th>Modele</th>\n",
       "      <th></th>\n",
       "      <th></th>\n",
       "      <th></th>\n",
       "      <th></th>\n",
       "      <th></th>\n",
       "      <th></th>\n",
       "    </tr>\n",
       "  </thead>\n",
       "  <tbody>\n",
       "    <tr>\n",
       "      <th>Peugeot 604</th>\n",
       "      <td>2664</td>\n",
       "      <td>136</td>\n",
       "      <td>472</td>\n",
       "      <td>177</td>\n",
       "      <td>1410</td>\n",
       "      <td>180</td>\n",
       "    </tr>\n",
       "    <tr>\n",
       "      <th>Peugeot 304 S</th>\n",
       "      <td>1288</td>\n",
       "      <td>74</td>\n",
       "      <td>414</td>\n",
       "      <td>157</td>\n",
       "      <td>915</td>\n",
       "      <td>160</td>\n",
       "    </tr>\n",
       "  </tbody>\n",
       "</table>\n",
       "</div>"
      ],
      "text/plain": [
       "                CYL  PUISS  LONG  LARG  POIDS  V_MAX\n",
       "Modele                                              \n",
       "Peugeot 604    2664    136   472   177   1410    180\n",
       "Peugeot 304 S  1288     74   414   157    915    160"
      ]
     },
     "execution_count": 37,
     "metadata": {},
     "output_type": "execute_result"
    }
   ],
   "source": [
    "ind_Sup"
   ]
  },
  {
   "cell_type": "markdown",
   "metadata": {},
   "source": [
    "Nous devons centrée et reduire les variables des individus supplémentaires à l'aide des paramètres (moyenne et écart-type) des données actives ayant servi à construire le reère factoriel "
   ]
  },
  {
   "cell_type": "code",
   "execution_count": 38,
   "metadata": {},
   "outputs": [
    {
     "name": "stdout",
     "output_type": "stream",
     "text": [
      "[[ 2.84080623  2.59511201  1.79199036  2.0010414   2.48812166  1.84112668]\n",
      " [-0.94571238 -0.53585556 -0.90763148 -1.87194195 -1.23091273  0.14597168]]\n"
     ]
    }
   ],
   "source": [
    "# centrage et reduction avec les paramètres des individus actifs\n",
    "Zind_Sup=sc.transform(ind_Sup)\n",
    "print(Zind_Sup)"
   ]
  },
  {
   "cell_type": "code",
   "execution_count": 39,
   "metadata": {},
   "outputs": [
    {
     "name": "stdout",
     "output_type": "stream",
     "text": [
      "[[ 5.56329226  0.33860928 -0.46428878  0.40214608 -0.38981076 -0.08102064]\n",
      " [-2.21224139  1.25777905 -0.09304388 -0.35370189  0.648528    0.12473042]]\n"
     ]
    }
   ],
   "source": [
    "# projection dans l'espace factoriel\n",
    "coordSup=acp.transform(Zind_Sup)\n",
    "print(coordSup)"
   ]
  },
  {
   "cell_type": "code",
   "execution_count": 40,
   "metadata": {
    "scrolled": false
   },
   "outputs": [
    {
     "data": {
      "image/png": "[encoded data removed]",
      "text/plain": [
       "<Figure size 720x720 with 1 Axes>"
      ]
     },
     "metadata": {
      "needs_background": "light"
     },
     "output_type": "display_data"
    }
   ],
   "source": [
    "# positionnement des individus supplémentaires dans le premeier plan\n",
    "fig,axes=plt.subplots(figsize=(10,10))\n",
    "axes.set_xlim(-6,6)\n",
    "axes.set_ylim(-5,5)\n",
    "\n",
    "# étiquette des points actifs\n",
    "for i in range(n):\n",
    "    plt.annotate(X.index[i],(coord[i,0],coord[i,1]))\n",
    "\n",
    "# etiquette des points supplémmentaires (illustratif) en bleu\n",
    "for i in range(coordSup.shape[0]):\n",
    "    plt.annotate(ind_Sup.index[i],(coordSup[i,0],coordSup[i,1]),color='blue')\n",
    "    \n",
    "# ajouter des axes\n",
    "plt.plot([-6,6],[0,0],color='silver',linestyle='--',linewidth=1)\n",
    "plt.plot([0,0],[-6,6],color='silver',linestyle='--',linewidth=1)\n",
    "\n",
    "# affichage\n",
    "plt.show()"
   ]
  },
  {
   "cell_type": "markdown",
   "metadata": {},
   "source": [
    "***\n",
    "[<font color=blue> Retour à la Table Des Matières](#retour)\n",
    "****"
   ]
  },
  {
   "cell_type": "markdown",
   "metadata": {},
   "source": [
    "### Section 3.2 Variables supplémentaires <a class=\"anchor\" id=\"Section3.2\"></a>"
   ]
  },
  {
   "cell_type": "code",
   "execution_count": 41,
   "metadata": {},
   "outputs": [
    {
     "data": {
      "text/html": [
       "<div>\n",
       "<style scoped>\n",
       "    .dataframe tbody tr th:only-of-type {\n",
       "        vertical-align: middle;\n",
       "    }\n",
       "\n",
       "    .dataframe tbody tr th {\n",
       "        vertical-align: top;\n",
       "    }\n",
       "\n",
       "    .dataframe thead th {\n",
       "        text-align: right;\n",
       "    }\n",
       "</style>\n",
       "<table border=\"1\" class=\"dataframe\">\n",
       "  <thead>\n",
       "    <tr style=\"text-align: right;\">\n",
       "      <th></th>\n",
       "      <th>PRIX</th>\n",
       "      <th>R_POIDS_PUIS</th>\n",
       "      <th>FINITION</th>\n",
       "    </tr>\n",
       "    <tr>\n",
       "      <th>Modele</th>\n",
       "      <th></th>\n",
       "      <th></th>\n",
       "      <th></th>\n",
       "    </tr>\n",
       "  </thead>\n",
       "  <tbody>\n",
       "    <tr>\n",
       "      <th>Alfasud TI</th>\n",
       "      <td>30570</td>\n",
       "      <td>11.013</td>\n",
       "      <td>2_B</td>\n",
       "    </tr>\n",
       "    <tr>\n",
       "      <th>Audi 100</th>\n",
       "      <td>39990</td>\n",
       "      <td>13.059</td>\n",
       "      <td>3_TB</td>\n",
       "    </tr>\n",
       "    <tr>\n",
       "      <th>Simca 1300</th>\n",
       "      <td>29600</td>\n",
       "      <td>15.441</td>\n",
       "      <td>1_M</td>\n",
       "    </tr>\n",
       "    <tr>\n",
       "      <th>CitroenGS Club</th>\n",
       "      <td>28250</td>\n",
       "      <td>15.763</td>\n",
       "      <td>1_M</td>\n",
       "    </tr>\n",
       "    <tr>\n",
       "      <th>Fiat 132</th>\n",
       "      <td>34900</td>\n",
       "      <td>11.276</td>\n",
       "      <td>2_B</td>\n",
       "    </tr>\n",
       "    <tr>\n",
       "      <th>Lancia Beta</th>\n",
       "      <td>35480</td>\n",
       "      <td>13.171</td>\n",
       "      <td>3_TB</td>\n",
       "    </tr>\n",
       "    <tr>\n",
       "      <th>Peugeot 504</th>\n",
       "      <td>32300</td>\n",
       "      <td>14.684</td>\n",
       "      <td>2_B</td>\n",
       "    </tr>\n",
       "    <tr>\n",
       "      <th>Renault 16 TL</th>\n",
       "      <td>32000</td>\n",
       "      <td>18.364</td>\n",
       "      <td>2_B</td>\n",
       "    </tr>\n",
       "    <tr>\n",
       "      <th>Renault 30</th>\n",
       "      <td>47700</td>\n",
       "      <td>10.313</td>\n",
       "      <td>3_TB</td>\n",
       "    </tr>\n",
       "    <tr>\n",
       "      <th>Toyota Corolla</th>\n",
       "      <td>26540</td>\n",
       "      <td>14.818</td>\n",
       "      <td>1_M</td>\n",
       "    </tr>\n",
       "    <tr>\n",
       "      <th>Alfetta-1.66</th>\n",
       "      <td>42395</td>\n",
       "      <td>9.725</td>\n",
       "      <td>3_TB</td>\n",
       "    </tr>\n",
       "    <tr>\n",
       "      <th>Princess-1800</th>\n",
       "      <td>33990</td>\n",
       "      <td>14.146</td>\n",
       "      <td>2_B</td>\n",
       "    </tr>\n",
       "    <tr>\n",
       "      <th>Datsun-200L</th>\n",
       "      <td>43980</td>\n",
       "      <td>11.913</td>\n",
       "      <td>3_TB</td>\n",
       "    </tr>\n",
       "    <tr>\n",
       "      <th>Taunus-2000</th>\n",
       "      <td>35010</td>\n",
       "      <td>11.020</td>\n",
       "      <td>2_B</td>\n",
       "    </tr>\n",
       "    <tr>\n",
       "      <th>Rancho</th>\n",
       "      <td>39450</td>\n",
       "      <td>14.113</td>\n",
       "      <td>3_TB</td>\n",
       "    </tr>\n",
       "    <tr>\n",
       "      <th>Mazda-9295</th>\n",
       "      <td>27900</td>\n",
       "      <td>13.193</td>\n",
       "      <td>1_M</td>\n",
       "    </tr>\n",
       "    <tr>\n",
       "      <th>Opel-Rekord</th>\n",
       "      <td>32700</td>\n",
       "      <td>11.200</td>\n",
       "      <td>2_B</td>\n",
       "    </tr>\n",
       "    <tr>\n",
       "      <th>Lada-1300</th>\n",
       "      <td>22100</td>\n",
       "      <td>14.044</td>\n",
       "      <td>1_M</td>\n",
       "    </tr>\n",
       "  </tbody>\n",
       "</table>\n",
       "</div>"
      ],
      "text/plain": [
       "                 PRIX  R_POIDS_PUIS FINITION\n",
       "Modele                                      \n",
       "Alfasud TI      30570        11.013      2_B\n",
       "Audi 100        39990        13.059     3_TB\n",
       "Simca 1300      29600        15.441      1_M\n",
       "CitroenGS Club  28250        15.763      1_M\n",
       "Fiat 132        34900        11.276      2_B\n",
       "Lancia Beta     35480        13.171     3_TB\n",
       "Peugeot 504     32300        14.684      2_B\n",
       "Renault 16 TL   32000        18.364      2_B\n",
       "Renault 30      47700        10.313     3_TB\n",
       "Toyota Corolla  26540        14.818      1_M\n",
       "Alfetta-1.66    42395         9.725     3_TB\n",
       "Princess-1800   33990        14.146      2_B\n",
       "Datsun-200L     43980        11.913     3_TB\n",
       "Taunus-2000     35010        11.020      2_B\n",
       "Rancho          39450        14.113     3_TB\n",
       "Mazda-9295      27900        13.193      1_M\n",
       "Opel-Rekord     32700        11.200      2_B\n",
       "Lada-1300       22100        14.044      1_M"
      ]
     },
     "execution_count": 41,
     "metadata": {},
     "output_type": "execute_result"
    }
   ],
   "source": [
    "# on reccupère les variables sup\n",
    "Var_Sup=pd.read_csv(\"variables_sup_voiture_acp.csv\",sep=\";\",index_col=0)\n",
    "Var_Sup"
   ]
  },
  {
   "cell_type": "code",
   "execution_count": 42,
   "metadata": {},
   "outputs": [],
   "source": [
    "# on reccupère les variables quantitatives dans un format np\n",
    "vsQuanti= Var_Sup.iloc[:,:2].values"
   ]
  },
  {
   "cell_type": "code",
   "execution_count": 43,
   "metadata": {},
   "outputs": [
    {
     "name": "stdout",
     "output_type": "stream",
     "text": [
      "[[ 0.77247524  0.08670844 -0.13389277 -0.22582891 -0.15944978 -0.10254878]\n",
      " [-0.58903133 -0.67252871 -0.15019774  0.21363857  0.10163937  0.29003495]]\n"
     ]
    }
   ],
   "source": [
    "# Corrélation avec les axes fatoriels\n",
    "corSupp = np.zeros((vsQuanti.shape[1],p))\n",
    "\n",
    "for k in range(p):\n",
    "    for j in range(vsQuanti.shape[1]):\n",
    "        corSupp[j,k]=np.corrcoef(vsQuanti[:,j],coord[:,k])[0,1]\n",
    "        \n",
    "# affichage des corrélation avec les axes\n",
    "print(corSupp)"
   ]
  },
  {
   "cell_type": "markdown",
   "metadata": {},
   "source": [
    "On a une matrice 2xP:    \n",
    "2 variables illustratives et p composantes principales générées"
   ]
  },
  {
   "cell_type": "code",
   "execution_count": 44,
   "metadata": {},
   "outputs": [
    {
     "data": {
      "image/png": "[encoded data removed]",
      "text/plain": [
       "<Figure size 576x576 with 1 Axes>"
      ]
     },
     "metadata": {
      "needs_background": "light"
     },
     "output_type": "display_data"
    }
   ],
   "source": [
    "# cercle des corrélations avec var supp\n",
    "fig,axes = plt.subplots(figsize=(8,8))\n",
    "axes.set_xlim(-1,1)\n",
    "axes.set_ylim(-1,1)\n",
    "\n",
    "# variables actives\n",
    "for j in range (p):\n",
    "    plt.annotate(X.columns[j],(corvar[j,0],corvar[j,1]))\n",
    "    plt.plot([0,corvar[j,0]],[0,corvar[j,1]],color='blue',alpha=0.2)\n",
    "    \n",
    "# variables illustratives\n",
    "for j in range(vsQuanti.shape[1]):\n",
    "    plt.annotate(Var_Sup.columns[j],(corSupp[j,0],corSupp[j,1]),color='g')\n",
    "    plt.plot([0,corSupp[j,0]],[0,corSupp[j,1]],color='g',alpha=0.2)\n",
    "\n",
    "# ajouter les axes\n",
    "plt.plot([-1,1],[0,0],color='silver',linestyle='--',linewidth=1)\n",
    "plt.plot([0,0],[-1,1],color='silver',linestyle='--',linewidth=1)\n",
    "\n",
    "# ajouter un cercle\n",
    "cercle = plt.Circle((0,0),1,color='b',fill=False)\n",
    "axes.add_artist(cercle)\n",
    "\n",
    "# affichage\n",
    "plt.show()"
   ]
  },
  {
   "cell_type": "markdown",
   "metadata": {},
   "source": [
    "- la variable prix est globalement corrélées avec l'ensemble des variables, emportée par la première composante principale\n",
    "- R_POIDS_PUIS (rapport poids-puissance) est quasi orthogonale au premier facteur. elle est à l'opposée de V_max"
   ]
  },
  {
   "cell_type": "markdown",
   "metadata": {},
   "source": [
    "### Section 3.3  Variable illustrative qualitative <a class=\"anchor\" id=\"Section3.3\"></a>"
   ]
  },
  {
   "cell_type": "code",
   "execution_count": 45,
   "metadata": {},
   "outputs": [
    {
     "data": {
      "text/plain": [
       "Modele\n",
       "Alfasud TI         2_B\n",
       "Audi 100          3_TB\n",
       "Simca 1300         1_M\n",
       "CitroenGS Club     1_M\n",
       "Fiat 132           2_B\n",
       "Lancia Beta       3_TB\n",
       "Peugeot 504        2_B\n",
       "Renault 16 TL      2_B\n",
       "Renault 30        3_TB\n",
       "Toyota Corolla     1_M\n",
       "Alfetta-1.66      3_TB\n",
       "Princess-1800      2_B\n",
       "Datsun-200L       3_TB\n",
       "Taunus-2000        2_B\n",
       "Rancho            3_TB\n",
       "Mazda-9295         1_M\n",
       "Opel-Rekord        2_B\n",
       "Lada-1300          1_M\n",
       "Name: FINITION, dtype: object"
      ]
     },
     "execution_count": 45,
     "metadata": {},
     "output_type": "execute_result"
    }
   ],
   "source": [
    "# traitement de variable qualitative supplémentaire\n",
    "vsQuali=Var_Sup.iloc[:,2]\n",
    "vsQuali"
   ]
  },
  {
   "cell_type": "code",
   "execution_count": 46,
   "metadata": {},
   "outputs": [
    {
     "data": {
      "text/plain": [
       "array(['1_M', '2_B', '3_TB'], dtype=object)"
      ]
     },
     "execution_count": 46,
     "metadata": {},
     "output_type": "execute_result"
    }
   ],
   "source": [
    "# on reccupère la liste des modalités\n",
    "modalites=np.unique(vsQuali)\n",
    "modalites"
   ]
  },
  {
   "cell_type": "code",
   "execution_count": 47,
   "metadata": {},
   "outputs": [
    {
     "name": "stdout",
     "output_type": "stream",
     "text": [
      "(18, 6) (18,) (18, 6)\n"
     ]
    }
   ],
   "source": [
    "print(X.shape,vsQuali.shape,coord.shape)"
   ]
  },
  {
   "cell_type": "code",
   "execution_count": 48,
   "metadata": {},
   "outputs": [
    {
     "name": "stdout",
     "output_type": "stream",
     "text": [
      "<class 'pandas.core.frame.DataFrame'> <class 'pandas.core.series.Series'> <class 'numpy.ndarray'>\n"
     ]
    }
   ],
   "source": [
    "print(type(X),type(vsQuali),type(coord))"
   ]
  },
  {
   "cell_type": "code",
   "execution_count": 49,
   "metadata": {},
   "outputs": [
    {
     "name": "stdout",
     "output_type": "stream",
     "text": [
      "['1_M' '2_B' '3_TB']\n"
     ]
    }
   ],
   "source": [
    "print(modalites)"
   ]
  },
  {
   "cell_type": "code",
   "execution_count": 50,
   "metadata": {},
   "outputs": [
    {
     "data": {
      "image/png": "[encoded data removed]",
      "text/plain": [
       "<Figure size 720x720 with 1 Axes>"
      ]
     },
     "metadata": {
      "needs_background": "light"
     },
     "output_type": "display_data"
    }
   ],
   "source": [
    "#liste des couleurs\n",
    "couleurs = ['r','g','b']\n",
    "\n",
    "#faire un graphique en coloriant les points\n",
    "fig, axes = plt.subplots(figsize=(10,10))\n",
    "axes.set_xlim(-4,6)\n",
    "axes.set_ylim(-4,4)\n",
    "\n",
    "\n",
    "#pour chaque modalité de la var. illustrative\n",
    "for c in range(len(modalites)):\n",
    "#numéro des individus concernés\n",
    "    numero = np.where(vsQuali == modalites[c])\n",
    "#les passer en revue pour affichage\n",
    "    for i in numero[0]:\n",
    "        plt.annotate(X.index[i],(coord[i,0],coord[i,1]),color=couleurs[c])\n",
    "        \n",
    "#ajouter les axes\n",
    "plt.plot([-6,6],[0,0],color='silver',linestyle='-',linewidth=1)\n",
    "plt.plot([0,0],[-6,6],color='silver',linestyle='-',linewidth=1)\n",
    "\n",
    "#affichage\n",
    "plt.show()"
   ]
  },
  {
   "cell_type": "markdown",
   "metadata": {},
   "source": [
    "### Section 3.4  Calcul des barycentres des modalitées de la variable qualitative <a class=\"anchor\" id=\"Section3.4\"></a>"
   ]
  },
  {
   "cell_type": "code",
   "execution_count": 51,
   "metadata": {},
   "outputs": [
    {
     "name": "stdout",
     "output_type": "stream",
     "text": [
      "                F1        F2\n",
      "Finition                    \n",
      "1_M      -2.000355 -0.022579\n",
      "2_B       0.235313  0.045271\n",
      "3_TB      1.392430 -0.034001\n"
     ]
    }
   ],
   "source": [
    "# structure intermédiaire\n",
    "df_barycentre = pd.DataFrame({'Finition':vsQuali,'F1':coord[:,0],'F2':coord[:,1] })\n",
    "\n",
    "# on calcul les moyennes conditionnelles\n",
    "print(df_barycentre.pivot_table(index='Finition',values=['F1','F2'],aggfunc=pd.Series.mean))"
   ]
  },
  {
   "cell_type": "markdown",
   "metadata": {},
   "source": [
    "***\n",
    "[<font color=blue> Retour à la Table Des Matières](#retour)\n",
    "****"
   ]
  }
 ],
 "metadata": {
  "kernelspec": {
   "display_name": "Python 3",
   "language": "python",
   "name": "python3"
  },
  "language_info": {
   "codemirror_mode": {
    "name": "ipython",
    "version": 3
   },
   "file_extension": ".py",
   "mimetype": "text/x-python",
   "name": "python",
   "nbconvert_exporter": "python",
   "pygments_lexer": "ipython3",
   "version": "3.8.5"
  }
 },
 "nbformat": 4,
 "nbformat_minor": 4
}
